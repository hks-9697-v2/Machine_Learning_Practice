{
 "cells": [
  {
   "cell_type": "markdown",
   "metadata": {
    "id": "_jQ1tEQCxwRx"
   },
   "source": [
    "##### Copyright 2019 The TensorFlow Authors."
   ]
  },
  {
   "cell_type": "code",
   "execution_count": 1,
   "metadata": {
    "cellView": "form",
    "execution": {
     "iopub.execute_input": "2021-03-13T04:23:19.107350Z",
     "iopub.status.busy": "2021-03-13T04:23:19.106377Z",
     "iopub.status.idle": "2021-03-13T04:23:19.108499Z",
     "shell.execute_reply": "2021-03-13T04:23:19.108870Z"
    },
    "id": "V_sgB_5dx1f1"
   },
   "outputs": [],
   "source": [
    "#@title Licensed under the Apache License, Version 2.0 (the \"License\");\n",
    "# you may not use this file except in compliance with the License.\n",
    "# You may obtain a copy of the License at\n",
    "#\n",
    "# https://www.apache.org/licenses/LICENSE-2.0\n",
    "#\n",
    "# Unless required by applicable law or agreed to in writing, software\n",
    "# distributed under the License is distributed on an \"AS IS\" BASIS,\n",
    "# WITHOUT WARRANTIES OR CONDITIONS OF ANY KIND, either express or implied.\n",
    "# See the License for the specific language governing permissions and\n",
    "# limitations under the License."
   ]
  },
  {
   "cell_type": "markdown",
   "metadata": {
    "id": "rF2x3qooyBTI"
   },
   "source": [
    "# Deep Convolutional Generative Adversarial Network"
   ]
  },
  {
   "cell_type": "markdown",
   "metadata": {
    "id": "yJAHknizgbdp"
   },
   "source": []
  },
  {
   "cell_type": "markdown",
   "metadata": {
    "id": "0TD5ZrvEMbhZ"
   },
   "source": [
    "<table class=\"tfo-notebook-buttons\" align=\"left\">\n",
    "  <td>\n",
    "    <a target=\"_blank\" href=\"https://www.tensorflow.org/tutorials/generative/dcgan\">\n",
    "    <img src=\"https://www.tensorflow.org/images/tf_logo_32px.png\" />\n",
    "    View on TensorFlow.org</a>\n",
    "  </td>\n",
    "  <td>\n",
    "    <a target=\"_blank\" href=\"https://colab.research.google.com/github/tensorflow/docs/blob/master/site/en/tutorials/generative/dcgan.ipynb\">\n",
    "    <img src=\"https://www.tensorflow.org/images/colab_logo_32px.png\" />\n",
    "    Run in Google Colab</a>\n",
    "  </td>\n",
    "  <td>\n",
    "    <a target=\"_blank\" href=\"https://github.com/tensorflow/docs/blob/master/site/en/tutorials/generative/dcgan.ipynb\">\n",
    "    <img src=\"https://www.tensorflow.org/images/GitHub-Mark-32px.png\" />\n",
    "    View source on GitHub</a>\n",
    "  </td>\n",
    "  <td>\n",
    "    <a href=\"https://storage.googleapis.com/tensorflow_docs/docs/site/en/tutorials/generative/dcgan.ipynb\"><img src=\"https://www.tensorflow.org/images/download_logo_32px.png\" />Download notebook</a>\n",
    "  </td>\n",
    "</table>"
   ]
  },
  {
   "cell_type": "markdown",
   "metadata": {
    "id": "ITZuApL56Mny"
   },
   "source": [
    "This tutorial demonstrates how to generate images of handwritten digits using a [Deep Convolutional Generative Adversarial Network](https://arxiv.org/pdf/1511.06434.pdf) (DCGAN). The code is written using the [Keras Sequential API](https://www.tensorflow.org/guide/keras) with a `tf.GradientTape` training loop."
   ]
  },
  {
   "cell_type": "markdown",
   "metadata": {
    "id": "e1_Y75QXJS6h"
   },
   "source": [
    "### Setup"
   ]
  },
  {
   "cell_type": "code",
   "execution_count": 2,
   "metadata": {
    "execution": {
     "iopub.execute_input": "2021-03-13T04:23:19.118085Z",
     "iopub.status.busy": "2021-03-13T04:23:19.117156Z",
     "iopub.status.idle": "2021-03-13T04:23:25.291483Z",
     "shell.execute_reply": "2021-03-13T04:23:25.290728Z"
    },
    "id": "WZKbyU2-AiY-"
   },
   "outputs": [],
   "source": [
    "import tensorflow as tf"
   ]
  },
  {
   "cell_type": "code",
   "execution_count": 3,
   "metadata": {
    "colab": {
     "base_uri": "https://localhost:8080/"
    },
    "execution": {
     "iopub.execute_input": "2021-03-13T04:23:25.302298Z",
     "iopub.status.busy": "2021-03-13T04:23:25.301470Z",
     "iopub.status.idle": "2021-03-13T04:23:25.307463Z",
     "shell.execute_reply": "2021-03-13T04:23:25.307888Z"
    },
    "id": "wx-zNbLqB4K8",
    "outputId": "9e53c1ae-a578-40ea-a1d0-307d78453c2b"
   },
   "outputs": [
    {
     "data": {
      "text/plain": [
       "[PhysicalDevice(name='/physical_device:CPU:0', device_type='CPU'),\n",
       " PhysicalDevice(name='/physical_device:GPU:0', device_type='GPU')]"
      ]
     },
     "execution_count": 3,
     "metadata": {},
     "output_type": "execute_result"
    }
   ],
   "source": [
    "tf.__version__\n",
    "tf.config.list_physical_devices(\n",
    "    device_type=None\n",
    ")"
   ]
  },
  {
   "cell_type": "code",
   "execution_count": 4,
   "metadata": {
    "execution": {
     "iopub.execute_input": "2021-03-13T04:23:25.313997Z",
     "iopub.status.busy": "2021-03-13T04:23:25.313279Z",
     "iopub.status.idle": "2021-03-13T04:23:37.396850Z",
     "shell.execute_reply": "2021-03-13T04:23:37.396226Z"
    },
    "id": "YzTlj4YdCip_"
   },
   "outputs": [],
   "source": [
    "# To generate GIFs\n",
    "#!pip install -q imageio\n",
    "#!pip install -q git+https://github.com/tensorflow/docs"
   ]
  },
  {
   "cell_type": "code",
   "execution_count": 4,
   "metadata": {
    "execution": {
     "iopub.execute_input": "2021-03-13T04:23:37.402255Z",
     "iopub.status.busy": "2021-03-13T04:23:37.401577Z",
     "iopub.status.idle": "2021-03-13T04:23:37.576776Z",
     "shell.execute_reply": "2021-03-13T04:23:37.576139Z"
    },
    "id": "YfIk2es3hJEd"
   },
   "outputs": [],
   "source": [
    "import glob\n",
    "import imageio\n",
    "import matplotlib.pyplot as plt\n",
    "import numpy as np\n",
    "import os\n",
    "import PIL\n",
    "from tensorflow.keras import layers\n",
    "import time\n",
    "\n",
    "from IPython import display"
   ]
  },
  {
   "cell_type": "markdown",
   "metadata": {
    "id": "iYn4MdZnKCey"
   },
   "source": [
    "### Load and prepare the dataset\n",
    "\n",
    "You will use the MNIST dataset to train the generator and the discriminator. The generator will generate handwritten digits resembling the MNIST data."
   ]
  },
  {
   "cell_type": "code",
   "execution_count": 7,
   "metadata": {
    "colab": {
     "base_uri": "https://localhost:8080/"
    },
    "execution": {
     "iopub.execute_input": "2021-03-13T04:23:37.582833Z",
     "iopub.status.busy": "2021-03-13T04:23:37.582214Z",
     "iopub.status.idle": "2021-03-13T04:23:38.687441Z",
     "shell.execute_reply": "2021-03-13T04:23:38.686669Z"
    },
    "id": "a4fYMGxGhrna",
    "outputId": "dfbd0e43-0675-4135-c28d-f955372c5e3b"
   },
   "outputs": [
    {
     "name": "stdout",
     "output_type": "stream",
     "text": [
      "100000\n",
      "Found 100000 files belonging to 10 classes.\n",
      "<BatchDataset shapes: ((None, 64, 64, 3), (None,)), types: (tf.float32, tf.int32)>\n",
      "<MapDataset shapes: ((None, 64, 64, 3), (None,)), types: (tf.float32, tf.int32)>\n",
      "<MapDataset shapes: ((None, 64, 64, 3), (None,)), types: (tf.float32, tf.int32)>\n",
      "0.07260674 1.0\n",
      "(32, 64, 64, 3)\n"
     ]
    }
   ],
   "source": [
    "import pathlib\n",
    "data_dir = '/media/harsh/HDD1/Datasets/cartoon dataset/cartoonset100k'\n",
    "data_dir = pathlib.Path(data_dir)\n",
    "image_count = len(list(data_dir.glob('*/*.png')))\n",
    "print(image_count)\n",
    "batch_size = 32\n",
    "img_height = 64\n",
    "img_width = 64\n",
    "train_ds = tf.keras.preprocessing.image_dataset_from_directory(\n",
    "  data_dir,\n",
    "  seed=123,\n",
    "  image_size=(img_height, img_width),\n",
    "  batch_size=batch_size)\n",
    "type(train_ds)\n",
    "\n",
    "print(train_ds)\n",
    "\n",
    "from tensorflow.keras import layers\n",
    "\n",
    "\n",
    "normalization_layer = tf.keras.layers.experimental.preprocessing.Rescaling(1./255)\n",
    "normalized_ds = train_ds.map(lambda x, y: (normalization_layer(x), y))\n",
    "\n",
    "print(normalized_ds)\n",
    "\n",
    "augmentation_layer = tf.keras.Sequential([\n",
    "  layers.experimental.preprocessing.RandomRotation(0.2),\n",
    "])\n",
    "augmented_ds = normalized_ds.map(lambda x, y: (augmentation_layer(x), y))\n",
    "\n",
    "print(augmented_ds)\n",
    "\n",
    "image_batch, labels_batch = next(iter(augmented_ds))\n",
    "first_image = image_batch[5]\n",
    "# Notice the pixels values are now in `[0,1]`.\n",
    "print(np.min(first_image), np.max(first_image)) \n",
    "#train_images = train_images.reshape(train_images.shape[0], 28, 28, 1).astype('float32')\n",
    "train_images = image_batch\n",
    "print(train_images.shape)\n"
   ]
  },
  {
   "cell_type": "code",
   "execution_count": 8,
   "metadata": {
    "colab": {
     "base_uri": "https://localhost:8080/",
     "height": 285
    },
    "execution": {
     "iopub.execute_input": "2021-03-13T04:23:43.314016Z",
     "iopub.status.busy": "2021-03-13T04:23:43.313432Z",
     "iopub.status.idle": "2021-03-13T04:23:43.314936Z",
     "shell.execute_reply": "2021-03-13T04:23:43.315331Z"
    },
    "id": "hEOokBV3VHFd",
    "outputId": "fc8b0381-8661-42b4-da0c-dcb5df837ce6",
    "scrolled": true
   },
   "outputs": [
    {
     "data": {
      "text/plain": [
       "<matplotlib.image.AxesImage at 0x7f443c40a9a0>"
      ]
     },
     "execution_count": 8,
     "metadata": {},
     "output_type": "execute_result"
    },
    {
     "data": {
      "image/png": "[encoded data removed]",
      "text/plain": [
       "<Figure size 432x288 with 1 Axes>"
      ]
     },
     "metadata": {
      "needs_background": "light"
     },
     "output_type": "display_data"
    }
   ],
   "source": [
    "Image = np.clip(image_batch[2], 0, 1)\n",
    "plt.imshow(Image) "
   ]
  },
  {
   "cell_type": "code",
   "execution_count": null,
   "metadata": {
    "colab": {
     "base_uri": "https://localhost:8080/",
     "height": 180
    },
    "id": "JvnBwidp_n_1",
    "outputId": "026e4e1c-2e96-4b0e-e778-65cc4618730b",
    "scrolled": true
   },
   "outputs": [],
   "source": []
  },
  {
   "cell_type": "code",
   "execution_count": 14,
   "metadata": {
    "execution": {
     "iopub.execute_input": "2021-03-13T04:23:38.881895Z",
     "iopub.status.busy": "2021-03-13T04:23:38.881270Z",
     "iopub.status.idle": "2021-03-13T04:23:38.883148Z",
     "shell.execute_reply": "2021-03-13T04:23:38.883515Z"
    },
    "id": "S4PIDhoDLbsZ"
   },
   "outputs": [],
   "source": [
    "BUFFER_SIZE = 60000\n",
    "BATCH_SIZE = 256"
   ]
  },
  {
   "cell_type": "code",
   "execution_count": 15,
   "metadata": {
    "execution": {
     "iopub.execute_input": "2021-03-13T04:23:40.547826Z",
     "iopub.status.busy": "2021-03-13T04:23:40.345713Z",
     "iopub.status.idle": "2021-03-13T04:23:40.552158Z",
     "shell.execute_reply": "2021-03-13T04:23:40.551611Z"
    },
    "id": "-yKCCQOoJ7cn"
   },
   "outputs": [],
   "source": [
    "# Batch and shuffle the data\n",
    "train_dataset = tf.data.Dataset.from_tensor_slices(train_images).shuffle(BUFFER_SIZE).batch(BATCH_SIZE)"
   ]
  },
  {
   "cell_type": "markdown",
   "metadata": {
    "id": "THY-sZMiQ4UV"
   },
   "source": [
    "## Create the models\n",
    "\n",
    "Both the generator and discriminator are defined using the [Keras Sequential API](https://www.tensorflow.org/guide/keras#sequential_model)."
   ]
  },
  {
   "cell_type": "markdown",
   "metadata": {
    "id": "-tEyxE-GMC48"
   },
   "source": [
    "### The Generator\n",
    "\n",
    "The generator uses `tf.keras.layers.Conv2DTranspose` (upsampling) layers to produce an image from a seed (random noise). Start with a `Dense` layer that takes this seed as input, then upsample several times until you reach the desired image size of 28x28x1. Notice the `tf.keras.layers.LeakyReLU` activation for each layer, except the output layer which uses tanh."
   ]
  },
  {
   "cell_type": "code",
   "execution_count": 24,
   "metadata": {
    "execution": {
     "iopub.execute_input": "2021-03-13T04:23:40.561447Z",
     "iopub.status.busy": "2021-03-13T04:23:40.560823Z",
     "iopub.status.idle": "2021-03-13T04:23:40.562507Z",
     "shell.execute_reply": "2021-03-13T04:23:40.562904Z"
    },
    "id": "6bpTcDqoLWjY"
   },
   "outputs": [],
   "source": [
    "def make_generator_model():\n",
    "    model = tf.keras.Sequential()\n",
    "    model.add(layers.Dense(8*8*256, use_bias=False, input_shape=(3,)))\n",
    "    model.add(layers.BatchNormalization())\n",
    "    model.add(layers.LeakyReLU(alpha=0.3))\n",
    "\n",
    "    model.add(layers.Reshape((8, 8, 256)))\n",
    "\n",
    "    model.add(layers.Conv2DTranspose(256, (4, 4), strides=(1, 1), padding='same', use_bias=False))\n",
    "    model.add(layers.BatchNormalization())\n",
    "    model.add(layers.LeakyReLU(alpha=0.3))\n",
    "\n",
    "    model.add(layers.Conv2DTranspose(128, (4, 4), strides=(2, 2), padding='same', use_bias=False))\n",
    "    model.add(layers.BatchNormalization())\n",
    "    model.add(layers.LeakyReLU(alpha=0.3))\n",
    "    \n",
    "    model.add(layers.Conv2DTranspose(64, (4, 4), strides=(2, 2), padding='same', use_bias=False))\n",
    "    model.add(layers.BatchNormalization())\n",
    "    model.add(layers.LeakyReLU(alpha=0.3))\n",
    "\n",
    "    \n",
    "\n",
    "    model.add(layers.Conv2DTranspose(3, (4, 4), strides=(2, 2), padding='same', use_bias=False, activation='tanh'))\n",
    "    print(model.summary())\n",
    "    return model"
   ]
  },
  {
   "cell_type": "markdown",
   "metadata": {
    "id": "GyWgG09LCSJl"
   },
   "source": [
    "Use the (as yet untrained) generator to create an image."
   ]
  },
  {
   "cell_type": "code",
   "execution_count": 25,
   "metadata": {
    "colab": {
     "base_uri": "https://localhost:8080/",
     "height": 999
    },
    "execution": {
     "iopub.execute_input": "2021-03-13T04:23:40.567747Z",
     "iopub.status.busy": "2021-03-13T04:23:40.567149Z",
     "iopub.status.idle": "2021-03-13T04:23:43.192684Z",
     "shell.execute_reply": "2021-03-13T04:23:43.192190Z"
    },
    "id": "gl7jcC7TdPTG",
    "outputId": "8ea3e383-d43d-4f18-e924-75f58aeced91"
   },
   "outputs": [
    {
     "name": "stdout",
     "output_type": "stream",
     "text": [
      "Model: \"sequential_7\"\n",
      "_________________________________________________________________\n",
      "Layer (type)                 Output Shape              Param #   \n",
      "=================================================================\n",
      "dense_5 (Dense)              (None, 16384)             49152     \n",
      "_________________________________________________________________\n",
      "batch_normalization_20 (Batc (None, 16384)             65536     \n",
      "_________________________________________________________________\n",
      "leaky_re_lu_20 (LeakyReLU)   (None, 16384)             0         \n",
      "_________________________________________________________________\n",
      "reshape_5 (Reshape)          (None, 8, 8, 256)         0         \n",
      "_________________________________________________________________\n",
      "conv2d_transpose_20 (Conv2DT (None, 8, 8, 256)         1048576   \n",
      "_________________________________________________________________\n",
      "batch_normalization_21 (Batc (None, 8, 8, 256)         1024      \n",
      "_________________________________________________________________\n",
      "leaky_re_lu_21 (LeakyReLU)   (None, 8, 8, 256)         0         \n",
      "_________________________________________________________________\n",
      "conv2d_transpose_21 (Conv2DT (None, 16, 16, 128)       524288    \n",
      "_________________________________________________________________\n",
      "batch_normalization_22 (Batc (None, 16, 16, 128)       512       \n",
      "_________________________________________________________________\n",
      "leaky_re_lu_22 (LeakyReLU)   (None, 16, 16, 128)       0         \n",
      "_________________________________________________________________\n",
      "conv2d_transpose_22 (Conv2DT (None, 32, 32, 64)        131072    \n",
      "_________________________________________________________________\n",
      "batch_normalization_23 (Batc (None, 32, 32, 64)        256       \n",
      "_________________________________________________________________\n",
      "leaky_re_lu_23 (LeakyReLU)   (None, 32, 32, 64)        0         \n",
      "_________________________________________________________________\n",
      "conv2d_transpose_23 (Conv2DT (None, 64, 64, 3)         3072      \n",
      "=================================================================\n",
      "Total params: 1,823,488\n",
      "Trainable params: 1,789,824\n",
      "Non-trainable params: 33,664\n",
      "_________________________________________________________________\n",
      "None\n"
     ]
    },
    {
     "data": {
      "text/plain": [
       "<matplotlib.image.AxesImage at 0x7f443cf48190>"
      ]
     },
     "execution_count": 25,
     "metadata": {},
     "output_type": "execute_result"
    },
    {
     "data": {
      "image/png": "[encoded data removed]",
      "text/plain": [
       "<Figure size 432x288 with 1 Axes>"
      ]
     },
     "metadata": {
      "needs_background": "light"
     },
     "output_type": "display_data"
    }
   ],
   "source": [
    "generator = make_generator_model()\n",
    "\n",
    "noise = tf.random.normal([1, 3])\n",
    "generated_image = generator(noise, training=False)\n",
    "\n",
    "plt.imshow(generated_image[0, :, :, 0], cmap='gray')"
   ]
  },
  {
   "cell_type": "markdown",
   "metadata": {
    "id": "D0IKnaCtg6WE"
   },
   "source": [
    "### The Discriminator\n",
    "\n",
    "The discriminator is a CNN-based image classifier."
   ]
  },
  {
   "cell_type": "code",
   "execution_count": 26,
   "metadata": {
    "execution": {
     "iopub.execute_input": "2021-03-13T04:23:43.199587Z",
     "iopub.status.busy": "2021-03-13T04:23:43.198971Z",
     "iopub.status.idle": "2021-03-13T04:23:43.201054Z",
     "shell.execute_reply": "2021-03-13T04:23:43.200602Z"
    },
    "id": "dw2tPLmk2pEP"
   },
   "outputs": [],
   "source": [
    "def make_discriminator_model():\n",
    "    model = tf.keras.Sequential()\n",
    "    \n",
    "    model.add(layers.Conv2D(64, (4, 4), strides=(2, 2), padding='same',\n",
    "                                     input_shape=[64, 64, 3]))\n",
    "    model.add(layers.LeakyReLU())\n",
    "    model.add(layers.Dropout(0.3))\n",
    "\n",
    "    model.add(layers.Conv2D(128, (4, 4), strides=(2, 2), padding='same'))\n",
    "    model.add(layers.LeakyReLU())\n",
    "    model.add(layers.Dropout(0.3))\n",
    "    \n",
    "    model.add(layers.Conv2D(128, (4, 4), strides=(2, 2), padding='same'))\n",
    "    model.add(layers.LeakyReLU())\n",
    "    model.add(layers.Dropout(0.3))\n",
    "\n",
    "\n",
    "    model.add(layers.Flatten())\n",
    "    model.add(layers.Dense(10))\n",
    "    model.add(layers.Dense(1))\n",
    "    model.summary()\n",
    "    return model"
   ]
  },
  {
   "cell_type": "markdown",
   "metadata": {
    "id": "QhPneagzCaQv"
   },
   "source": [
    "Use the (as yet untrained) discriminator to classify the generated images as real or fake. The model will be trained to output positive values for real images, and negative values for fake images."
   ]
  },
  {
   "cell_type": "code",
   "execution_count": 27,
   "metadata": {
    "colab": {
     "base_uri": "https://localhost:8080/"
    },
    "execution": {
     "iopub.execute_input": "2021-03-13T04:23:43.207477Z",
     "iopub.status.busy": "2021-03-13T04:23:43.206844Z",
     "iopub.status.idle": "2021-03-13T04:23:43.260442Z",
     "shell.execute_reply": "2021-03-13T04:23:43.260001Z"
    },
    "id": "gDkA05NE6QMs",
    "outputId": "60f85975-46d6-466c-f089-a0d85cffe093"
   },
   "outputs": [
    {
     "name": "stdout",
     "output_type": "stream",
     "text": [
      "Model: \"sequential_8\"\n",
      "_________________________________________________________________\n",
      "Layer (type)                 Output Shape              Param #   \n",
      "=================================================================\n",
      "conv2d (Conv2D)              (None, 32, 32, 64)        3136      \n",
      "_________________________________________________________________\n",
      "leaky_re_lu_24 (LeakyReLU)   (None, 32, 32, 64)        0         \n",
      "_________________________________________________________________\n",
      "dropout (Dropout)            (None, 32, 32, 64)        0         \n",
      "_________________________________________________________________\n",
      "conv2d_1 (Conv2D)            (None, 16, 16, 128)       131200    \n",
      "_________________________________________________________________\n",
      "leaky_re_lu_25 (LeakyReLU)   (None, 16, 16, 128)       0         \n",
      "_________________________________________________________________\n",
      "dropout_1 (Dropout)          (None, 16, 16, 128)       0         \n",
      "_________________________________________________________________\n",
      "conv2d_2 (Conv2D)            (None, 8, 8, 128)         262272    \n",
      "_________________________________________________________________\n",
      "leaky_re_lu_26 (LeakyReLU)   (None, 8, 8, 128)         0         \n",
      "_________________________________________________________________\n",
      "dropout_2 (Dropout)          (None, 8, 8, 128)         0         \n",
      "_________________________________________________________________\n",
      "flatten (Flatten)            (None, 8192)              0         \n",
      "_________________________________________________________________\n",
      "dense_6 (Dense)              (None, 10)                81930     \n",
      "_________________________________________________________________\n",
      "dense_7 (Dense)              (None, 1)                 11        \n",
      "=================================================================\n",
      "Total params: 478,549\n",
      "Trainable params: 478,549\n",
      "Non-trainable params: 0\n",
      "_________________________________________________________________\n",
      "tf.Tensor([[-6.1820945e-05]], shape=(1, 1), dtype=float32)\n"
     ]
    }
   ],
   "source": [
    "discriminator = make_discriminator_model()\n",
    "decision = discriminator(generated_image)\n",
    "print (decision)"
   ]
  },
  {
   "cell_type": "markdown",
   "metadata": {
    "id": "0FMYgY_mPfTi"
   },
   "source": [
    "## Define the loss and optimizers\n",
    "\n",
    "Define loss functions and optimizers for both models.\n"
   ]
  },
  {
   "cell_type": "code",
   "execution_count": 28,
   "metadata": {
    "execution": {
     "iopub.execute_input": "2021-03-13T04:23:43.264350Z",
     "iopub.status.busy": "2021-03-13T04:23:43.263766Z",
     "iopub.status.idle": "2021-03-13T04:23:43.265829Z",
     "shell.execute_reply": "2021-03-13T04:23:43.265399Z"
    },
    "id": "psQfmXxYKU3X"
   },
   "outputs": [],
   "source": [
    "# This method returns a helper function to compute cross entropy loss\n",
    "cross_entropy = tf.keras.losses.BinaryCrossentropy(from_logits=True)"
   ]
  },
  {
   "cell_type": "markdown",
   "metadata": {
    "id": "PKY_iPSPNWoj"
   },
   "source": [
    "### Discriminator loss\n",
    "\n",
    "This method quantifies how well the discriminator is able to distinguish real images from fakes. It compares the discriminator's predictions on real images to an array of 1s, and the discriminator's predictions on fake (generated) images to an array of 0s."
   ]
  },
  {
   "cell_type": "code",
   "execution_count": 29,
   "metadata": {
    "execution": {
     "iopub.execute_input": "2021-03-13T04:23:43.270220Z",
     "iopub.status.busy": "2021-03-13T04:23:43.269669Z",
     "iopub.status.idle": "2021-03-13T04:23:43.271360Z",
     "shell.execute_reply": "2021-03-13T04:23:43.271743Z"
    },
    "id": "wkMNfBWlT-PV"
   },
   "outputs": [],
   "source": [
    "def discriminator_loss(real_output, fake_output):\n",
    "    real_loss = cross_entropy(tf.ones_like(real_output), real_output)\n",
    "    fake_loss = cross_entropy(tf.zeros_like(fake_output), fake_output)\n",
    "    total_loss = real_loss + fake_loss\n",
    "    return total_loss"
   ]
  },
  {
   "cell_type": "markdown",
   "metadata": {
    "id": "Jd-3GCUEiKtv"
   },
   "source": [
    "### Generator loss\n",
    "The generator's loss quantifies how well it was able to trick the discriminator. Intuitively, if the generator is performing well, the discriminator will classify the fake images as real (or 1). Here, compare the discriminators decisions on the generated images to an array of 1s."
   ]
  },
  {
   "cell_type": "code",
   "execution_count": 30,
   "metadata": {
    "execution": {
     "iopub.execute_input": "2021-03-13T04:23:43.275327Z",
     "iopub.status.busy": "2021-03-13T04:23:43.274716Z",
     "iopub.status.idle": "2021-03-13T04:23:43.276772Z",
     "shell.execute_reply": "2021-03-13T04:23:43.276331Z"
    },
    "id": "90BIcCKcDMxz"
   },
   "outputs": [],
   "source": [
    "def generator_loss(fake_output):\n",
    "    return cross_entropy(tf.ones_like(fake_output), fake_output)"
   ]
  },
  {
   "cell_type": "markdown",
   "metadata": {
    "id": "MgIc7i0th_Iu"
   },
   "source": [
    "The discriminator and the generator optimizers are different since you will train two networks separately."
   ]
  },
  {
   "cell_type": "code",
   "execution_count": 31,
   "metadata": {
    "execution": {
     "iopub.execute_input": "2021-03-13T04:23:43.280859Z",
     "iopub.status.busy": "2021-03-13T04:23:43.280251Z",
     "iopub.status.idle": "2021-03-13T04:23:43.282095Z",
     "shell.execute_reply": "2021-03-13T04:23:43.282443Z"
    },
    "id": "iWCn_PVdEJZ7"
   },
   "outputs": [],
   "source": [
    "generator_optimizer = tf.keras.optimizers.Adam(1e-4)\n",
    "discriminator_optimizer = tf.keras.optimizers.Adam(1e-4)"
   ]
  },
  {
   "cell_type": "markdown",
   "metadata": {
    "id": "mWtinsGDPJlV"
   },
   "source": [
    "### Save checkpoints\n",
    "This notebook also demonstrates how to save and restore models, which can be helpful in case a long running training task is interrupted."
   ]
  },
  {
   "cell_type": "code",
   "execution_count": 32,
   "metadata": {
    "execution": {
     "iopub.execute_input": "2021-03-13T04:23:43.286870Z",
     "iopub.status.busy": "2021-03-13T04:23:43.286294Z",
     "iopub.status.idle": "2021-03-13T04:23:43.288157Z",
     "shell.execute_reply": "2021-03-13T04:23:43.288507Z"
    },
    "id": "CA1w-7s2POEy"
   },
   "outputs": [],
   "source": [
    "checkpoint_dir = '/media/harsh/HDD1/Checkpoint/dcgan-cartoon'\n",
    "checkpoint_prefix = os.path.join(checkpoint_dir, \"ckpt\")\n",
    "checkpoint = tf.train.Checkpoint(generator_optimizer=generator_optimizer,\n",
    "                                 discriminator_optimizer=discriminator_optimizer,\n",
    "                                 generator=generator,\n",
    "                                 discriminator=discriminator)"
   ]
  },
  {
   "cell_type": "markdown",
   "metadata": {
    "id": "Rw1fkAczTQYh"
   },
   "source": [
    "## Define the training loop\n"
   ]
  },
  {
   "cell_type": "code",
   "execution_count": 49,
   "metadata": {
    "execution": {
     "iopub.execute_input": "2021-03-13T04:23:43.292364Z",
     "iopub.status.busy": "2021-03-13T04:23:43.291820Z",
     "iopub.status.idle": "2021-03-13T04:23:43.293847Z",
     "shell.execute_reply": "2021-03-13T04:23:43.294230Z"
    },
    "id": "NS2GWywBbAWo"
   },
   "outputs": [],
   "source": [
    "EPOCHS = 50000\n",
    "noise_dim = 3\n",
    "num_examples_to_generate = 10\n",
    "\n",
    "# You will reuse this seed overtime (so it's easier)\n",
    "# to visualize progress in the animated GIF)\n",
    "seed = tf.random.normal([num_examples_to_generate, noise_dim])"
   ]
  },
  {
   "cell_type": "markdown",
   "metadata": {
    "id": "jylSonrqSWfi"
   },
   "source": [
    "The training loop begins with generator receiving a random seed as input. That seed is used to produce an image. The discriminator is then used to classify real images (drawn from the training set) and fakes images (produced by the generator). The loss is calculated for each of these models, and the gradients are used to update the generator and discriminator."
   ]
  },
  {
   "cell_type": "code",
   "execution_count": 45,
   "metadata": {
    "execution": {
     "iopub.execute_input": "2021-03-13T04:23:43.299980Z",
     "iopub.status.busy": "2021-03-13T04:23:43.297225Z",
     "iopub.status.idle": "2021-03-13T04:23:43.301642Z",
     "shell.execute_reply": "2021-03-13T04:23:43.301997Z"
    },
    "id": "3t5ibNo05jCB"
   },
   "outputs": [],
   "source": [
    "# Notice the use of `tf.function`\n",
    "# This annotation causes the function to be \"compiled\".\n",
    "@tf.function\n",
    "def train_step(images):\n",
    "    noise = tf.random.normal([BATCH_SIZE, noise_dim])\n",
    "\n",
    "    with tf.GradientTape() as gen_tape, tf.GradientTape() as disc_tape:\n",
    "      generated_images = generator(noise, training=True)\n",
    "\n",
    "      real_output = discriminator(images, training=True)\n",
    "      fake_output = discriminator(generated_images, training=True)\n",
    "\n",
    "      gen_loss = generator_loss(fake_output)\n",
    "      disc_loss = discriminator_loss(real_output, fake_output)\n",
    "\n",
    "    gradients_of_generator = gen_tape.gradient(gen_loss, generator.trainable_variables)\n",
    "    gradients_of_discriminator = disc_tape.gradient(disc_loss, discriminator.trainable_variables)\n",
    "\n",
    "    generator_optimizer.apply_gradients(zip(gradients_of_generator, generator.trainable_variables))\n",
    "    discriminator_optimizer.apply_gradients(zip(gradients_of_discriminator, discriminator.trainable_variables))"
   ]
  },
  {
   "cell_type": "code",
   "execution_count": 46,
   "metadata": {
    "execution": {
     "iopub.execute_input": "2021-03-13T04:23:43.307463Z",
     "iopub.status.busy": "2021-03-13T04:23:43.306890Z",
     "iopub.status.idle": "2021-03-13T04:23:43.308517Z",
     "shell.execute_reply": "2021-03-13T04:23:43.308863Z"
    },
    "id": "2M7LmLtGEMQJ"
   },
   "outputs": [],
   "source": [
    "def train(dataset, epochs):\n",
    "  for epoch in range(epochs):\n",
    "    start = time.time()\n",
    "\n",
    "    for image_batch in dataset:\n",
    "      train_step(image_batch)\n",
    "\n",
    "    # Produce images for the GIF as you go\n",
    "    display.clear_output(wait=True)\n",
    "    generate_and_save_images(generator,\n",
    "                             epoch + 1,\n",
    "                             seed)\n",
    "\n",
    "    # Save the model every 15 epochs\n",
    "    if (epoch + 1) % 100 == 0:\n",
    "      !rm -rf '/media/harsh/HDD1/Checkpoint/dcgan-cartoon'\n",
    "      checkpoint.save(file_prefix = checkpoint_prefix)\n",
    "\n",
    "    print ('Time for epoch {} is {} sec'.format(epoch + 1, time.time()-start))\n",
    "\n",
    "  # Generate after the final epoch\n",
    "  display.clear_output(wait=True)\n",
    "  generate_and_save_images(generator,\n",
    "                           epochs,\n",
    "                           seed)"
   ]
  },
  {
   "cell_type": "markdown",
   "metadata": {
    "id": "2aFF7Hk3XdeW"
   },
   "source": [
    "**Generate and save images**\n"
   ]
  },
  {
   "cell_type": "code",
   "execution_count": 47,
   "metadata": {
    "execution": {
     "iopub.execute_input": "2021-03-13T04:23:43.314016Z",
     "iopub.status.busy": "2021-03-13T04:23:43.313432Z",
     "iopub.status.idle": "2021-03-13T04:23:43.314936Z",
     "shell.execute_reply": "2021-03-13T04:23:43.315331Z"
    },
    "id": "RmdVsmvhPxyy"
   },
   "outputs": [],
   "source": [
    "import math\n",
    "def generate_and_save_images(model, epoch, test_input):\n",
    "  # Notice `training` is set to False.\n",
    "  # This is so all layers run in inference mode (batchnorm).\n",
    "  \n",
    "  predictions = model(test_input, training=False)\n",
    "  for i in range(predictions.shape[0]):\n",
    "      plt.figure(figsize=(10, 10))\n",
    "      Image = np.clip(predictions[i, :, :, :], 0, 1)\n",
    "      plt.imshow(Image)    \n",
    "      plt.axis('off')\n",
    "    \n",
    "  if epoch % 100 == 0:\n",
    "    plt.savefig('image_at_epoch_{:04d}.png'.format(math.ceil(epoch/100)))\n",
    "  plt.show()\n"
   ]
  },
  {
   "cell_type": "markdown",
   "metadata": {
    "id": "dZrd4CdjR-Fp"
   },
   "source": [
    "## Train the model\n",
    "Call the `train()` method defined above to train the generator and discriminator simultaneously. Note, training GANs can be tricky. It's important that the generator and discriminator do not overpower each other (e.g., that they train at a similar rate).\n",
    "\n",
    "At the beginning of the training, the generated images look like random noise. As training progresses, the generated digits will look increasingly real. After about 50 epochs, they resemble MNIST digits. This may take about one minute / epoch with the default settings on Colab."
   ]
  },
  {
   "cell_type": "code",
   "execution_count": null,
   "metadata": {
    "colab": {
     "base_uri": "https://localhost:8080/",
     "height": 1000
    },
    "execution": {
     "iopub.execute_input": "2021-03-13T04:23:43.319053Z",
     "iopub.status.busy": "2021-03-13T04:23:43.318441Z",
     "iopub.status.idle": "2021-03-13T04:27:09.492677Z",
     "shell.execute_reply": "2021-03-13T04:27:09.492135Z"
    },
    "id": "Ly3UN0SLLY2l",
    "outputId": "09ba780c-9f21-4b3e-8742-8e1ce5145008"
   },
   "outputs": [
    {
     "data": {
      "image/png": "[encoded data removed]",
      "text/plain": [
       "<Figure size 720x720 with 1 Axes>"
      ]
     },
     "metadata": {
      "needs_background": "light"
     },
     "output_type": "display_data"
    },
    {
     "data": {
      "image/png": "[encoded data removed]",
      "text/plain": [
       "<Figure size 720x720 with 1 Axes>"
      ]
     },
     "metadata": {
      "needs_background": "light"
     },
     "output_type": "display_data"
    },
    {
     "data": {
      "image/png": "[encoded data removed]",
      "text/plain": [
       "<Figure size 720x720 with 1 Axes>"
      ]
     },
     "metadata": {
      "needs_background": "light"
     },
     "output_type": "display_data"
    },
    {
     "data": {
      "image/png": "[encoded data removed]",
      "text/plain": [
       "<Figure size 720x720 with 1 Axes>"
      ]
     },
     "metadata": {
      "needs_background": "light"
     },
     "output_type": "display_data"
    },
    {
     "data": {
      "image/png": "[encoded data removed]",
      "text/plain": [
       "<Figure size 720x720 with 1 Axes>"
      ]
     },
     "metadata": {
      "needs_background": "light"
     },
     "output_type": "display_data"
    }
   ],
   "source": [
    "checkpoint.restore(tf.train. latest_checkpoint(checkpoint_dir))\n",
    "seed = tf.random.normal([num_examples_to_generate, noise_dim])\n",
    "train(train_dataset, EPOCHS)"
   ]
  },
  {
   "cell_type": "markdown",
   "metadata": {
    "id": "rfM4YcPVPkNO"
   },
   "source": [
    "Restore the latest checkpoint."
   ]
  },
  {
   "cell_type": "markdown",
   "metadata": {
    "id": "DW2lEyvCn8BD"
   },
   "source": []
  },
  {
   "cell_type": "code",
   "execution_count": null,
   "metadata": {
    "execution": {
     "iopub.execute_input": "2021-03-13T04:27:09.497382Z",
     "iopub.status.busy": "2021-03-13T04:27:09.496825Z",
     "iopub.status.idle": "2021-03-13T04:27:09.562102Z",
     "shell.execute_reply": "2021-03-13T04:27:09.561599Z"
    },
    "id": "XhXsd0srPo8c"
   },
   "outputs": [],
   "source": [
    "checkpoint.restore(tf.train. latest_checkpoint(checkpoint_dir))"
   ]
  },
  {
   "cell_type": "markdown",
   "metadata": {
    "id": "PQAxt-wqn8VL"
   },
   "source": []
  },
  {
   "cell_type": "markdown",
   "metadata": {
    "id": "P4M_vIbUi7c0"
   },
   "source": [
    "## Create a GIF\n"
   ]
  },
  {
   "cell_type": "code",
   "execution_count": 82,
   "metadata": {
    "execution": {
     "iopub.execute_input": "2021-03-13T04:27:09.566430Z",
     "iopub.status.busy": "2021-03-13T04:27:09.565860Z",
     "iopub.status.idle": "2021-03-13T04:27:09.567607Z",
     "shell.execute_reply": "2021-03-13T04:27:09.568008Z"
    },
    "id": "WfO5wCdclHGL"
   },
   "outputs": [],
   "source": [
    "# Display a single image using the epoch number\n",
    "def display_image(epoch_no):\n",
    "  return PIL.Image.open('image_at_epoch_{:04d}.png'.format(epoch_no))"
   ]
  },
  {
   "cell_type": "code",
   "execution_count": 84,
   "metadata": {
    "execution": {
     "iopub.execute_input": "2021-03-13T04:27:09.571607Z",
     "iopub.status.busy": "2021-03-13T04:27:09.570795Z",
     "iopub.status.idle": "2021-03-13T04:27:09.583165Z",
     "shell.execute_reply": "2021-03-13T04:27:09.582699Z"
    },
    "id": "5x3q9_Oe5q0A"
   },
   "outputs": [
    {
     "data": {
      "image/png": "[encoded data removed]",
      "text/plain": [
       "<PIL.PngImagePlugin.PngImageFile image mode=RGBA size=432x288 at 0x7F817BA75730>"
      ]
     },
     "execution_count": 84,
     "metadata": {},
     "output_type": "execute_result"
    }
   ],
   "source": [
    "display_image(1)"
   ]
  },
  {
   "cell_type": "markdown",
   "metadata": {
    "id": "NywiH3nL8guF"
   },
   "source": [
    "Use `imageio` to create an animated gif using the images saved during training."
   ]
  },
  {
   "cell_type": "code",
   "execution_count": 85,
   "metadata": {
    "execution": {
     "iopub.execute_input": "2021-03-13T04:27:09.588081Z",
     "iopub.status.busy": "2021-03-13T04:27:09.587537Z",
     "iopub.status.idle": "2021-03-13T04:27:10.049785Z",
     "shell.execute_reply": "2021-03-13T04:27:10.049210Z"
    },
    "id": "IGKQgENQ8lEI"
   },
   "outputs": [],
   "source": [
    "anim_file = 'dcgan.gif'\n",
    "\n",
    "with imageio.get_writer(anim_file, mode='I') as writer:\n",
    "  filenames = glob.glob('image*.png')\n",
    "  filenames = sorted(filenames)\n",
    "  for filename in filenames:\n",
    "    image = imageio.imread(filename)\n",
    "    writer.append_data(image)\n",
    "  image = imageio.imread(filename)\n",
    "  writer.append_data(image)"
   ]
  },
  {
   "cell_type": "code",
   "execution_count": 86,
   "metadata": {
    "execution": {
     "iopub.execute_input": "2021-03-13T04:27:10.054070Z",
     "iopub.status.busy": "2021-03-13T04:27:10.053504Z",
     "iopub.status.idle": "2021-03-13T04:27:10.115861Z",
     "shell.execute_reply": "2021-03-13T04:27:10.115336Z"
    },
    "id": "ZBwyU6t2Wf3g"
   },
   "outputs": [
    {
     "data": {
      "text/html": [
       "<img src=\"data:image/gif;base64,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\"/>"
      ],
      "text/plain": [
       "<IPython.core.display.HTML object>"
      ]
     },
     "execution_count": 86,
     "metadata": {},
     "output_type": "execute_result"
    }
   ],
   "source": [
    "import tensorflow_docs.vis.embed as embed\n",
    "embed.embed_file(anim_file)"
   ]
  },
  {
   "cell_type": "markdown",
   "metadata": {
    "id": "k6qC-SbjK0yW"
   },
   "source": [
    "## Next steps\n"
   ]
  },
  {
   "cell_type": "markdown",
   "metadata": {
    "id": "xjjkT9KAK6H7"
   },
   "source": [
    "This tutorial has shown the complete code necessary to write and train a GAN. As a next step, you might like to experiment with a different dataset, for example the Large-scale Celeb Faces Attributes (CelebA) dataset [available on Kaggle](https://www.kaggle.com/jessicali9530/celeba-dataset). To learn more about GANs see the [NIPS 2016 Tutorial: Generative Adversarial Networks](https://arxiv.org/abs/1701.00160).\n"
   ]
  }
 ],
 "metadata": {
  "accelerator": "GPU",
  "colab": {
   "collapsed_sections": [],
   "name": "dcgan.ipynb",
   "provenance": []
  },
  "kernelspec": {
   "display_name": "Python 3",
   "language": "python",
   "name": "python3"
  },
  "language_info": {
   "codemirror_mode": {
    "name": "ipython",
    "version": 3
   },
   "file_extension": ".py",
   "mimetype": "text/x-python",
   "name": "python",
   "nbconvert_exporter": "python",
   "pygments_lexer": "ipython3",
   "version": "3.8.5"
  }
 },
 "nbformat": 4,
 "nbformat_minor": 1
}
